{
 "cells": [
  {
   "cell_type": "markdown",
   "metadata": {
    "_cell_guid": "b1076dfc-b9ad-4769-8c92-a6c4dae69d19",
    "_uuid": "8f2839f25d086af736a60e9eeb907d3b93b6e0e5"
   },
   "source": [
    "# Predict Star/Galaxy/QSO Using Random Forest Classifier\n",
    "\n",
    "\n",
    "You are going to use the scikit-learn Random Forest Classifier to predict, whether a particular SDSS source is a STAR, GALAXY or QSO using its photometric properties and position in the sky.\n"
   ]
  },
  {
   "cell_type": "markdown",
   "metadata": {
    "_cell_guid": "79c7e3d0-c299-4dcb-8224-4455121ee9b0",
    "_uuid": "d629ff2d2480ee46fbb7e2d37f6b5fab8052498a",
    "collapsed": true
   },
   "source": [
    "**YOUR TURN** Import pandas, numpy and matplotlib.pyplot"
   ]
  },
  {
   "cell_type": "code",
   "execution_count": null,
   "metadata": {
    "_uuid": "4cb4e35d3c8ac8f2cd4d342d4c764a2c361902a8"
   },
   "outputs": [],
   "source": []
  },
  {
   "cell_type": "markdown",
   "metadata": {
    "_uuid": "c5a5785a173163fe0c2e94cce871f427319540c1"
   },
   "source": [
    "**YOUR TURN**  read the data from csv file"
   ]
  },
  {
   "cell_type": "markdown",
   "metadata": {
    "_uuid": "33c680c41ed8975f978d0278ef39d675408ae5dd"
   },
   "source": [
    "path = \"data/stellar_classification.csv\"\n",
    "\n",
    "***name*** your dataset ***df*** so the name will match with my code at the end of the notebook"
   ]
  },
  {
   "cell_type": "code",
   "execution_count": null,
   "metadata": {
    "_uuid": "56bc7667fe6ad8b44c740681dc5a8b21e0a3ae99"
   },
   "outputs": [],
   "source": []
  },
  {
   "cell_type": "markdown",
   "metadata": {
    "_uuid": "88a553ad8c8f99f420f6d8be40adb2206a986f29"
   },
   "source": [
    "**YOUR TURN**  Print the top few rows from the file using the head() method of Pandas."
   ]
  },
  {
   "cell_type": "code",
   "execution_count": null,
   "metadata": {
    "_uuid": "eec5bbc63179ea989692cafc5411fc04581b017d"
   },
   "outputs": [],
   "source": []
  },
  {
   "cell_type": "markdown",
   "metadata": {
    "_uuid": "042cd2808f4ffc6dfc3df7a8eebe8a8103859049"
   },
   "source": [
    "**YOUR TURN** Check for missing values"
   ]
  },
  {
   "cell_type": "markdown",
   "metadata": {
    "_uuid": "8b312dae0f872d45e3ad7a9e8afdb88d80e69a01"
   },
   "source": [
    ".<code>isnull()</code> and <code>sum()</code> is used to find whether there are any missing values in the CSV file."
   ]
  },
  {
   "cell_type": "code",
   "execution_count": null,
   "metadata": {
    "_uuid": "8a46d412112d51ed0edcc62d50c22984df867666"
   },
   "outputs": [],
   "source": []
  },
  {
   "cell_type": "markdown",
   "metadata": {
    "_uuid": "92a6eb1e36bd0922a05e9d277f946e202aa1e6cd"
   },
   "source": [
    "\n",
    "\n",
    "**YOUR TURN**  create a subset of the dataset WITHOUT the obj_ID, field_ID and fiber_ID, which are unlikely to help us with classification.\n",
    "\n",
    "hint.  df.drop(..., axis=1)"
   ]
  },
  {
   "cell_type": "markdown",
   "metadata": {
    "_uuid": "b928876bc93c4074ec1556b4511b24fe995f4dca"
   },
   "source": [
    "\n"
   ]
  },
  {
   "cell_type": "code",
   "execution_count": null,
   "metadata": {
    "_uuid": "ab7be777ece4ffd9679380a4252c3f66509eb302"
   },
   "outputs": [],
   "source": []
  },
  {
   "cell_type": "markdown",
   "metadata": {},
   "source": [
    "**YOUR TURN** Make a seaborn \"pairplot\" to show how well each of the features separates the Galaxies, QSOs and Stars, using the \"class\" column for the hue."
   ]
  },
  {
   "cell_type": "code",
   "execution_count": null,
   "metadata": {},
   "outputs": [],
   "source": []
  },
  {
   "cell_type": "markdown",
   "metadata": {},
   "source": [
    "* Do you think the data are easily separable by a decision tree algorithm?\n",
    "* Can you see which features are the most important?\n",
    "* Will the algorithm generalise well on unseen data? To answer this we need to evaluate a model."
   ]
  },
  {
   "cell_type": "markdown",
   "metadata": {
    "_uuid": "892f93375f27b48fa2c4893038bfba5e14a37fa3"
   },
   "source": [
    "**YOUR TURN**  now create a subset of this dataset called \"labels\" that only contains 'class' (our label) and another called \"features\" that does NOT contain 'class'"
   ]
  },
  {
   "cell_type": "code",
   "execution_count": null,
   "metadata": {
    "_uuid": "2ec43d37f8227993e9777763966957a54dbd0294"
   },
   "outputs": [],
   "source": [
    "# get the labels and features datasets\n",
    "\n"
   ]
  },
  {
   "cell_type": "code",
   "execution_count": null,
   "metadata": {},
   "outputs": [],
   "source": []
  },
  {
   "cell_type": "markdown",
   "metadata": {
    "_uuid": "892099d296254f112cc76e642cbc30765dcfea3d"
   },
   "source": [
    "**YOUR TURN** Split the data into train and test sets\n",
    "    using the variables that you created above\n",
    "* use X = features \n",
    "* use y = labels\n",
    "* remember to import the library from sklearn.model_selection import train_test_split\n",
    "* note that RandomForestClassifier allows us to have strings or numerics as the target labels but only numbers for the features."
   ]
  },
  {
   "cell_type": "markdown",
   "metadata": {
    "_uuid": "bbde31b31342534ccb31c0ea3bc56fe8da933a46"
   },
   "source": [
    "Split arrays or matrices into random *train* and *test* subsets."
   ]
  },
  {
   "cell_type": "code",
   "execution_count": null,
   "metadata": {
    "_uuid": "c429f1702af2456a165f7c33423fa52900baa9f6"
   },
   "outputs": [],
   "source": [
    "# split train test data set\n"
   ]
  },
  {
   "cell_type": "markdown",
   "metadata": {
    "_uuid": "d8301ac736487454b8dddeb952bbe362de7346ae"
   },
   "source": [
    "## Random Forest Classifier"
   ]
  },
  {
   "cell_type": "markdown",
   "metadata": {
    "_uuid": "6dbe85ca5be2512bf983f8821380a631dc3f06f7"
   },
   "source": [
    "<p>A random forest is a <i>meta estimator</i> that fits a number of decision tree classifiers on various sub-samples of the dataset and uses averaging to improve the predictive accuracy and control over-fitting.</p>\n",
    "\n",
    "<code>n_estimators</code> <i>integer, optional (default=100)</i>  The number of trees in the forest.<br/>\n",
    "\n"
   ]
  },
  {
   "cell_type": "markdown",
   "metadata": {},
   "source": [
    "**YOUR TURN** \n",
    "* import the random forest classifier library\n",
    "* create a random forest classifier object with 10 estimators"
   ]
  },
  {
   "cell_type": "code",
   "execution_count": null,
   "metadata": {
    "_uuid": "bd9c293925c960079330f0e9d5220b21e49109a9"
   },
   "outputs": [],
   "source": []
  },
  {
   "cell_type": "markdown",
   "metadata": {
    "_uuid": "01b1c5b309e2ec59acbdb22925cd2f6d4618c9e8"
   },
   "source": [
    "**Fit X_Train and y_Train**"
   ]
  },
  {
   "cell_type": "markdown",
   "metadata": {
    "_uuid": "8afc4b82c3f9f745a803d98a89a608e6a348858d"
   },
   "source": [
    "<code>fit()</code>Build a forest of trees from the training set (X, y)."
   ]
  },
  {
   "cell_type": "markdown",
   "metadata": {},
   "source": [
    "**YOUR TURN** fit the X_train and y_train to the classifier that you have created"
   ]
  },
  {
   "cell_type": "code",
   "execution_count": null,
   "metadata": {
    "_uuid": "337d83613f4d8497ed52ddce97a8642cad8ce374"
   },
   "outputs": [],
   "source": []
  },
  {
   "cell_type": "markdown",
   "metadata": {},
   "source": [
    "**YOUR TURN** print the score of the training data \n",
    "hint: use score method and X_train and y_train"
   ]
  },
  {
   "cell_type": "markdown",
   "metadata": {
    "_uuid": "ea12e0cc56b07a449f31a7cd86b4243d80d99690"
   },
   "source": [
    "<code>score()</code> Returns the mean accuracy on the given data and labels."
   ]
  },
  {
   "cell_type": "code",
   "execution_count": null,
   "metadata": {
    "_uuid": "aebeb0f592c2589d982a08e22e149a59e4757dd0"
   },
   "outputs": [],
   "source": []
  },
  {
   "cell_type": "markdown",
   "metadata": {},
   "source": [
    "**YOUR TURN** print the score of the testing data \n",
    "hint: use score method and X_test and y_test"
   ]
  },
  {
   "cell_type": "code",
   "execution_count": null,
   "metadata": {
    "_uuid": "cc07d29e68de6dff6c278c71af285cceee3b1d9d"
   },
   "outputs": [],
   "source": []
  },
  {
   "cell_type": "markdown",
   "metadata": {},
   "source": [
    "How close are these scores? Any evidence for overfitting? Let's investigate more evaluation metrics"
   ]
  },
  {
   "cell_type": "markdown",
   "metadata": {},
   "source": [
    "**YOUR TURN** store in a variable called predictions the predicted values of the classifier for the X_test using the predict methods"
   ]
  },
  {
   "cell_type": "code",
   "execution_count": null,
   "metadata": {
    "_uuid": "7fd400f68e94901d612d450954bd5d0cb118e4dc"
   },
   "outputs": [],
   "source": []
  },
  {
   "cell_type": "markdown",
   "metadata": {},
   "source": [
    "**YOUR TURN** import classification_report and confusion_matrix from sklearn.metrics and print the classification report for your true labels y_test compared to the predictions"
   ]
  },
  {
   "cell_type": "code",
   "execution_count": null,
   "metadata": {},
   "outputs": [],
   "source": []
  },
  {
   "cell_type": "markdown",
   "metadata": {},
   "source": [
    "**YOUR TURN** print out the confusion matrix (3x3 in this case)"
   ]
  },
  {
   "cell_type": "code",
   "execution_count": null,
   "metadata": {},
   "outputs": [],
   "source": []
  },
  {
   "cell_type": "markdown",
   "metadata": {},
   "source": [
    "\n",
    "* How successful have we been at classifying the various types of object? Are some better than others?"
   ]
  },
  {
   "cell_type": "markdown",
   "metadata": {},
   "source": [
    "**YOUR TURN**\n",
    "\n",
    "* print/plot the features importances\n",
    "* in the solution you will see a different method that turns the result into a dataframe for nicer plotting and the ability to sort the result"
   ]
  },
  {
   "cell_type": "code",
   "execution_count": null,
   "metadata": {},
   "outputs": [],
   "source": []
  },
  {
   "cell_type": "code",
   "execution_count": null,
   "metadata": {},
   "outputs": [],
   "source": []
  },
  {
   "cell_type": "markdown",
   "metadata": {},
   "source": [
    "**YOUR TURN** try to increase the number of estimators in the classifier and see if that changes the results.  Try 1000 for example. Or try limiting the number of levels in the trees.\n",
    "**Just change the parameters in the codes above** do not write it again. What are the pros and cons?"
   ]
  },
  {
   "cell_type": "code",
   "execution_count": null,
   "metadata": {},
   "outputs": [],
   "source": []
  }
 ],
 "metadata": {
  "kernelspec": {
   "display_name": "Python 3",
   "language": "python",
   "name": "python3"
  },
  "language_info": {
   "codemirror_mode": {
    "name": "ipython",
    "version": 3
   },
   "file_extension": ".py",
   "mimetype": "text/x-python",
   "name": "python",
   "nbconvert_exporter": "python",
   "pygments_lexer": "ipython3",
   "version": "3.8.8"
  },
  "widgets": {
   "state": {},
   "version": "1.1.2"
  }
 },
 "nbformat": 4,
 "nbformat_minor": 1
}
